{
 "cells": [
  {
   "cell_type": "code",
   "execution_count": 17,
   "id": "e0a0cefe-84f6-4056-8dd1-1477754d13b6",
   "metadata": {},
   "outputs": [],
   "source": [
    "from collections import defaultdict"
   ]
  },
  {
   "cell_type": "code",
   "execution_count": 19,
   "id": "f5ed9648-3b3c-4caa-870f-057e99d783e9",
   "metadata": {},
   "outputs": [
    {
     "name": "stdout",
     "output_type": "stream",
     "text": [
      "Part 1 Total Score: 18619\n"
     ]
    }
   ],
   "source": [
    "total = 0\n",
    "with open(\"day4.txt\", \"r\") as file:\n",
    "    for line in file:\n",
    "        card_str, info = line.split(': ')\n",
    "        winning, yours = info.split(' | ')\n",
    "        win_nums = {int(num) for num in winning.split()}\n",
    "        score = 0\n",
    "        for num in yours.split():\n",
    "            if int(num) in win_nums:\n",
    "                score += 1\n",
    "        if score > 0:\n",
    "            total += 2 ** (score - 1)\n",
    "print(f'Part 1 Total Score: {total}')"
   ]
  },
  {
   "cell_type": "code",
   "execution_count": 20,
   "id": "4a3689ce-5a5b-4c76-811b-a62c344aaeb4",
   "metadata": {},
   "outputs": [
    {
     "name": "stdout",
     "output_type": "stream",
     "text": [
      "Part 2 Number of Cards: 8063216\n"
     ]
    }
   ],
   "source": [
    "card_dict = defaultdict(int) \n",
    "with open(\"day4.txt\", \"r\") as file:\n",
    "    for line in file:\n",
    "        card_str, info = line.split(': ')\n",
    "        index = int(card_str.split()[-1])\n",
    "        card_dict[index] += 1\n",
    "        num_of_copies = card_dict[index]\n",
    "        winning, yours = info.split(' | ')\n",
    "        win_nums = {int(num) for num in winning.split()}\n",
    "        score = 0\n",
    "        for num in yours.split():\n",
    "            if int(num) in win_nums:\n",
    "                score += 1\n",
    "        for i in range(score):\n",
    "            card_dict[index + i + 1] += num_of_copies\n",
    "print(f'Part 2 Number of Cards: {sum(card_dict.values())}')"
   ]
  }
 ],
 "metadata": {
  "kernelspec": {
   "display_name": "Python 3 (ipykernel)",
   "language": "python",
   "name": "python3"
  },
  "language_info": {
   "codemirror_mode": {
    "name": "ipython",
    "version": 3
   },
   "file_extension": ".py",
   "mimetype": "text/x-python",
   "name": "python",
   "nbconvert_exporter": "python",
   "pygments_lexer": "ipython3",
   "version": "3.12.0"
  }
 },
 "nbformat": 4,
 "nbformat_minor": 5
}
