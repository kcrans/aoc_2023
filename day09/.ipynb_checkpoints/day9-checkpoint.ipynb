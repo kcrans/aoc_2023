{
 "cells": [
  {
   "cell_type": "code",
   "execution_count": 129,
   "id": "7e46b0c2-bddf-4c27-9651-5d73a5e8dc14",
   "metadata": {},
   "outputs": [],
   "source": [
    "seqs = []\n",
    "with open('day9.txt', 'r') as file:\n",
    "    for line in file:\n",
    "        seqs.append([int(string) for string in line.strip('\\n').split()])"
   ]
  },
  {
   "cell_type": "code",
   "execution_count": 96,
   "id": "929bbfe3-501c-4335-8f44-7ea45893f592",
   "metadata": {},
   "outputs": [],
   "source": [
    "def running_sum(array):\n",
    "    total_sum = 0\n",
    "    current_sum = 0\n",
    "    for num in array:\n",
    "        current_sum += num\n",
    "        total_sum += current_sum\n",
    "        print(current_sum, total_sum)\n",
    "    return total_sum"
   ]
  },
  {
   "cell_type": "code",
   "execution_count": 93,
   "id": "4d01877b-62b2-4bdc-a62a-3ae0ef53256c",
   "metadata": {},
   "outputs": [],
   "source": [
    "great_sum = 0\n",
    "for seq in seqs:\n",
    "    n = len(seq)\n",
    "    while n > 0:\n",
    "        n = n - 1\n",
    "        for i in range(n):\n",
    "            seq[i] = seq[i+1] - seq[i]\n",
    "    great_sum += sum(seq)       "
   ]
  },
  {
   "cell_type": "code",
   "execution_count": 130,
   "id": "0a6d4095-6a00-4630-b494-921ac42ee4c9",
   "metadata": {},
   "outputs": [
    {
     "data": {
      "text/plain": [
       "966"
      ]
     },
     "execution_count": 130,
     "metadata": {},
     "output_type": "execute_result"
    }
   ],
   "source": [
    "great_sum = 0\n",
    "for seq in seqs:\n",
    "    n = len(seq)\n",
    "    i = 0\n",
    "    while i < n - 1:\n",
    "        for j in range(n-1, i, -1):\n",
    "            seq[j] = seq[j] - seq[j - 1]\n",
    "        i += 1\n",
    "    extrap = 0\n",
    "    for x in reversed(seq):\n",
    "        extrap = x - extrap\n",
    "    great_sum += extrap\n",
    "great_sum"
   ]
  }
 ],
 "metadata": {
  "kernelspec": {
   "display_name": "Python 3 (ipykernel)",
   "language": "python",
   "name": "python3"
  },
  "language_info": {
   "codemirror_mode": {
    "name": "ipython",
    "version": 3
   },
   "file_extension": ".py",
   "mimetype": "text/x-python",
   "name": "python",
   "nbconvert_exporter": "python",
   "pygments_lexer": "ipython3",
   "version": "3.12.0"
  }
 },
 "nbformat": 4,
 "nbformat_minor": 5
}
