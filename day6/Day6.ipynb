{
 "cells": [
  {
   "cell_type": "code",
   "execution_count": 12,
   "id": "004129cf-3fd2-431c-8984-70346abf2ba8",
   "metadata": {},
   "outputs": [
    {
     "data": {
      "text/plain": [
       "([63, 78, 94, 68], [411, 1274, 2047, 1035])"
      ]
     },
     "execution_count": 12,
     "metadata": {},
     "output_type": "execute_result"
    }
   ],
   "source": [
    "with open(\"day6.txt\", \"r\") as f:\n",
    "    data = f.read().strip('\\n')\n",
    "time_str, dist_str = data.split('\\n')\n",
    "times = [int(time) for time in time_str.split()[1:]]\n",
    "dists = [int(dist) for dist in dist_str.split()[1:]]\n",
    "times, dists"
   ]
  },
  {
   "cell_type": "code",
   "execution_count": 13,
   "id": "447adb1f-7574-4f71-998a-f2b9ebf2ab6d",
   "metadata": {},
   "outputs": [
    {
     "data": {
      "text/plain": [
       "781200"
      ]
     },
     "execution_count": 13,
     "metadata": {},
     "output_type": "execute_result"
    }
   ],
   "source": [
    "# Brute force method\n",
    "counts_product = 1\n",
    "for time, dist in zip(times, dists):\n",
    "    count = 0\n",
    "    for hold_time in range(0, time + 1):\n",
    "        speed = hold_time\n",
    "        dist_gone = speed*(time - hold_time)\n",
    "        #print(dist_gone)\n",
    "        if dist_gone > dist:\n",
    "            count += 1\n",
    "    counts_product *= count\n",
    "counts_product"
   ]
  },
  {
   "cell_type": "markdown",
   "id": "128aaf81-9205-44bf-a2e5-cd7e49dad6c8",
   "metadata": {},
   "source": [
    "## Part 2"
   ]
  },
  {
   "cell_type": "code",
   "execution_count": 20,
   "id": "29a78446-ffdb-4b20-a505-57cbf60da7f1",
   "metadata": {},
   "outputs": [
    {
     "data": {
      "text/plain": [
       "(63789468, 411127420471035)"
      ]
     },
     "execution_count": 20,
     "metadata": {},
     "output_type": "execute_result"
    }
   ],
   "source": [
    "time = int(\"\".join(time_str.split()[1:]))\n",
    "dist = int(\"\".join(dist_str.split()[1:]))\n",
    "time, dist"
   ]
  },
  {
   "cell_type": "code",
   "execution_count": 21,
   "id": "c120a00d-4d1e-4a3f-bb07-1717ab074bc5",
   "metadata": {},
   "outputs": [
    {
     "data": {
      "text/plain": [
       "49240091"
      ]
     },
     "execution_count": 21,
     "metadata": {},
     "output_type": "execute_result"
    }
   ],
   "source": [
    "# Brute force method\n",
    "\n",
    "count = 0\n",
    "for hold_time in range(0, time + 1):\n",
    "    speed = hold_time\n",
    "    dist_gone = speed*(time - hold_time)\n",
    "    #print(dist_gone)\n",
    "    if dist_gone > dist:\n",
    "        count += 1\n",
    "count"
   ]
  }
 ],
 "metadata": {
  "kernelspec": {
   "display_name": "Python 3 (ipykernel)",
   "language": "python",
   "name": "python3"
  },
  "language_info": {
   "codemirror_mode": {
    "name": "ipython",
    "version": 3
   },
   "file_extension": ".py",
   "mimetype": "text/x-python",
   "name": "python",
   "nbconvert_exporter": "python",
   "pygments_lexer": "ipython3",
   "version": "3.12.0"
  }
 },
 "nbformat": 4,
 "nbformat_minor": 5
}
