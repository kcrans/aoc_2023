{
 "cells": [
  {
   "cell_type": "code",
   "execution_count": 1,
   "id": "004129cf-3fd2-431c-8984-70346abf2ba8",
   "metadata": {},
   "outputs": [
    {
     "data": {
      "text/plain": [
       "([63, 78, 94, 68], [411, 1274, 2047, 1035])"
      ]
     },
     "execution_count": 1,
     "metadata": {},
     "output_type": "execute_result"
    }
   ],
   "source": [
    "with open(\"day6.txt\", \"r\") as f:\n",
    "    data = f.read().strip('\\n')\n",
    "time_str, dist_str = data.split('\\n')\n",
    "times = [int(time) for time in time_str.split()[1:]]\n",
    "dists = [int(dist) for dist in dist_str.split()[1:]]\n",
    "times, dists"
   ]
  },
  {
   "cell_type": "code",
   "execution_count": 2,
   "id": "447adb1f-7574-4f71-998a-f2b9ebf2ab6d",
   "metadata": {},
   "outputs": [
    {
     "data": {
      "text/plain": [
       "781200"
      ]
     },
     "execution_count": 2,
     "metadata": {},
     "output_type": "execute_result"
    }
   ],
   "source": [
    "# Brute force method\n",
    "counts_product = 1\n",
    "for time, dist in zip(times, dists):\n",
    "    count = 0\n",
    "    for hold_time in range(0, time + 1):\n",
    "        speed = hold_time\n",
    "        dist_gone = speed*(time - hold_time)\n",
    "        #print(dist_gone)\n",
    "        if dist_gone > dist:\n",
    "            count += 1\n",
    "    counts_product *= count\n",
    "counts_product"
   ]
  },
  {
   "cell_type": "markdown",
   "id": "128aaf81-9205-44bf-a2e5-cd7e49dad6c8",
   "metadata": {},
   "source": [
    "## Part 2"
   ]
  },
  {
   "cell_type": "code",
   "execution_count": 41,
   "id": "29a78446-ffdb-4b20-a505-57cbf60da7f1",
   "metadata": {},
   "outputs": [
    {
     "data": {
      "text/plain": [
       "(63789468, 411127420471035)"
      ]
     },
     "execution_count": 41,
     "metadata": {},
     "output_type": "execute_result"
    }
   ],
   "source": [
    "time = int(\"\".join(time_str.split()[1:]))\n",
    "dist = int(\"\".join(dist_str.split()[1:]))\n",
    "time, dist"
   ]
  },
  {
   "cell_type": "code",
   "execution_count": 22,
   "id": "c120a00d-4d1e-4a3f-bb07-1717ab074bc5",
   "metadata": {
    "scrolled": true
   },
   "outputs": [
    {
     "name": "stdout",
     "output_type": "stream",
     "text": [
      "7274689 411127441128731\n"
     ]
    },
    {
     "data": {
      "text/plain": [
       "49240091"
      ]
     },
     "execution_count": 22,
     "metadata": {},
     "output_type": "execute_result"
    }
   ],
   "source": [
    "#%%timeit\n",
    "# Brute force method\n",
    "first = True\n",
    "count = 0\n",
    "for hold_time in range(0, time + 1):\n",
    "    speed = hold_time\n",
    "    dist_gone = speed*(time - hold_time)\n",
    "    #print(dist_gone)\n",
    "    if dist_gone > dist:\n",
    "        count += 1\n",
    "        if first:\n",
    "            print(hold_time, dist_gone)\n",
    "            first = False\n",
    "count"
   ]
  },
  {
   "cell_type": "code",
   "execution_count": 16,
   "id": "8ad1fbfc-03b7-4d46-bed4-5629d0ded79f",
   "metadata": {},
   "outputs": [
    {
     "data": {
      "text/plain": [
       "21"
      ]
     },
     "execution_count": 16,
     "metadata": {},
     "output_type": "execute_result"
    }
   ],
   "source": [
    "count"
   ]
  },
  {
   "cell_type": "code",
   "execution_count": 42,
   "id": "dad63e06-dbdd-4c92-a05e-c708493e6e2e",
   "metadata": {},
   "outputs": [
    {
     "name": "stdout",
     "output_type": "stream",
     "text": [
      "Part 2's Score: 49240091\n"
     ]
    }
   ],
   "source": [
    "def calc_dist(time_held: int) -> int:\n",
    "    return time_held*(time - time_held)\n",
    "\n",
    "# Using binary search\n",
    "half_time = time // 2\n",
    "left, right = 0, half_time\n",
    "\n",
    "def bin_search(left, right, time):\n",
    "    while left < right:\n",
    "        if right == left + 1:\n",
    "            if dist < calc_dist(left):\n",
    "                return left\n",
    "            else:\n",
    "                return right\n",
    "                \n",
    "        middle = (right + left) // 2\n",
    "        middle_dist = calc_dist(middle)\n",
    "        left_dist, right_dist = calc_dist(left), calc_dist(right)   \n",
    "        \n",
    "        if dist > middle_dist:\n",
    "            left = middle\n",
    "        else:\n",
    "            right = middle\n",
    "    return -1\n",
    "    \n",
    "index = bin_search(left, right, time)\n",
    "# There are time + different holding times, so if we \n",
    "# subtract 2 times the index of the first distance that\n",
    "# beats the reference, we will have the count of all possible\n",
    "# distances that \"win\" the race\n",
    "count = time + 1 - (2*index)\n",
    "print(f\"Part 2's Score: {count}\")"
   ]
  },
  {
   "cell_type": "code",
   "execution_count": 30,
   "id": "05045059-e4f2-44bf-b552-3a9d7ef063e7",
   "metadata": {},
   "outputs": [
    {
     "data": {
      "text/plain": [
       "63789468"
      ]
     },
     "execution_count": 30,
     "metadata": {},
     "output_type": "execute_result"
    }
   ],
   "source": [
    "time"
   ]
  },
  {
   "cell_type": "code",
   "execution_count": null,
   "id": "3acfaa78-0cf1-4c46-bc20-4bd9a75ff456",
   "metadata": {},
   "outputs": [],
   "source": [
    "0 1 2 3 4 5 6 7"
   ]
  },
  {
   "cell_type": "code",
   "execution_count": 35,
   "id": "4237fd34-1a78-48b1-8954-193e3058579e",
   "metadata": {},
   "outputs": [
    {
     "data": {
      "text/plain": [
       "49240091"
      ]
     },
     "execution_count": 35,
     "metadata": {},
     "output_type": "execute_result"
    }
   ],
   "source": [
    "time + 1 - (2*index)"
   ]
  },
  {
   "cell_type": "code",
   "execution_count": 31,
   "id": "02525886-c795-4890-aa13-c34455bc0f94",
   "metadata": {},
   "outputs": [
    {
     "data": {
      "text/plain": [
       "31894734"
      ]
     },
     "execution_count": 31,
     "metadata": {},
     "output_type": "execute_result"
    }
   ],
   "source": [
    "half_time"
   ]
  },
  {
   "cell_type": "code",
   "execution_count": 29,
   "id": "a0273886-ac37-40d0-ab4f-8c5b92c3e5a3",
   "metadata": {},
   "outputs": [
    {
     "data": {
      "text/plain": [
       "7274689"
      ]
     },
     "execution_count": 29,
     "metadata": {},
     "output_type": "execute_result"
    }
   ],
   "source": [
    "index"
   ]
  },
  {
   "cell_type": "code",
   "execution_count": 32,
   "id": "00796fda-3636-4cca-b6b9-5fbec8cdc15b",
   "metadata": {},
   "outputs": [
    {
     "data": {
      "text/plain": [
       "49240092"
      ]
     },
     "execution_count": 32,
     "metadata": {},
     "output_type": "execute_result"
    }
   ],
   "source": [
    "(half_time - index + 1)*2"
   ]
  }
 ],
 "metadata": {
  "kernelspec": {
   "display_name": "Python 3 (ipykernel)",
   "language": "python",
   "name": "python3"
  },
  "language_info": {
   "codemirror_mode": {
    "name": "ipython",
    "version": 3
   },
   "file_extension": ".py",
   "mimetype": "text/x-python",
   "name": "python",
   "nbconvert_exporter": "python",
   "pygments_lexer": "ipython3",
   "version": "3.12.0"
  }
 },
 "nbformat": 4,
 "nbformat_minor": 5
}
