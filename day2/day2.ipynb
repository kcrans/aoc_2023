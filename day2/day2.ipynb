{
 "cells": [
  {
   "cell_type": "code",
   "execution_count": 2,
   "id": "0c83e431-7ab3-4204-80bf-c1902ad0c76b",
   "metadata": {},
   "outputs": [
    {
     "data": {
      "text/plain": [
       "2176"
      ]
     },
     "execution_count": 2,
     "metadata": {},
     "output_type": "execute_result"
    }
   ],
   "source": [
    "cubes = {}\n",
    "cubes['red'] = 12\n",
    "cubes['green'] = 13\n",
    "cubes['blue'] = 14\n",
    "\n",
    "score = 0\n",
    "\n",
    "def is_possible(cube_sets):\n",
    "    for cube_set in cube_sets:\n",
    "        for cube_grouping in cube_set.split(', '):\n",
    "            amount, color = cube_grouping.split()\n",
    "            amount = int(amount)\n",
    "            if amount > cubes[color]:\n",
    "                return False\n",
    "    return True\n",
    "\n",
    "with open('day2.txt', 'r') as file: \n",
    "    for line in file:\n",
    "        game_num, game = line.split(':')\n",
    "        game_num = int(game_num.split()[1])\n",
    "        cube_sets = game.split('; ')\n",
    "        if is_possible(cube_sets):\n",
    "            score += game_num\n",
    "score"
   ]
  },
  {
   "cell_type": "code",
   "execution_count": 3,
   "id": "7fc9f7f5-7221-4e8f-a7e9-3ea85a16639d",
   "metadata": {},
   "outputs": [
    {
     "data": {
      "text/plain": [
       "63700"
      ]
     },
     "execution_count": 3,
     "metadata": {},
     "output_type": "execute_result"
    }
   ],
   "source": [
    "score = 0\n",
    "def get_power(cube_sets):\n",
    "    cubes = {'red': 0, 'green': 0, 'blue': 0}\n",
    "\n",
    "    for cube_set in cube_sets:\n",
    "        for cube_grouping in cube_set.split(', '):\n",
    "            amount, color = cube_grouping.split()\n",
    "            amount = int(amount)\n",
    "            cubes[color] = max(cubes[color], amount)\n",
    "    return cubes['red']*cubes['green']*cubes['blue']\n",
    "\n",
    "with open('day2.txt', 'r') as file: \n",
    "    for line in file:\n",
    "        game_num, game = line.split(':')\n",
    "        game_num = int(game_num.split()[1])\n",
    "        cube_sets = game.split('; ')\n",
    "        score += get_power(cube_sets)\n",
    "score"
   ]
  }
 ],
 "metadata": {
  "kernelspec": {
   "display_name": "Python 3 (ipykernel)",
   "language": "python",
   "name": "python3"
  },
  "language_info": {
   "codemirror_mode": {
    "name": "ipython",
    "version": 3
   },
   "file_extension": ".py",
   "mimetype": "text/x-python",
   "name": "python",
   "nbconvert_exporter": "python",
   "pygments_lexer": "ipython3",
   "version": "3.12.0"
  }
 },
 "nbformat": 4,
 "nbformat_minor": 5
}
